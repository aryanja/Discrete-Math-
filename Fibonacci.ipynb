{
 "cells": [
  {
   "cell_type": "code",
   "execution_count": 19,
   "metadata": {},
   "outputs": [],
   "source": [
    "def fib_recurse(n):\n",
    "    if n<=2:\n",
    "        return 1;\n",
    "    else:\n",
    "        return fib_recurse(n-1)+fib_recurse(n-2)\n",
    "    \n",
    "\n",
    "\n"
   ]
  },
  {
   "cell_type": "code",
   "execution_count": 20,
   "metadata": {},
   "outputs": [],
   "source": [
    "phiPlus= (1+(5**0.5))/2.0\n",
    "phiMinus= (1-(5**0.5))/2.0\n",
    "\n",
    "def fib(n):\n",
    "    return ((phiPlus**n)-(phiMinus**n))/(5**0.5)\n"
   ]
  },
  {
   "cell_type": "code",
   "execution_count": 21,
   "metadata": {},
   "outputs": [
    {
     "data": {
      "text/plain": [
       "3.0000000000000004"
      ]
     },
     "execution_count": 21,
     "metadata": {},
     "output_type": "execute_result"
    }
   ],
   "source": [
    "fib(3)\n",
    "fib(4)"
   ]
  },
  {
   "cell_type": "code",
   "execution_count": 22,
   "metadata": {},
   "outputs": [
    {
     "data": {
      "text/plain": [
       "190392490709135.44"
      ]
     },
     "execution_count": 22,
     "metadata": {},
     "output_type": "execute_result"
    }
   ],
   "source": [
    "fib(70)\n"
   ]
  },
  {
   "cell_type": "code",
   "execution_count": 23,
   "metadata": {},
   "outputs": [],
   "source": [
    "def fibTable(n):\n",
    "    a=1\n",
    "    b=1\n",
    "    for i in range(3,n+1):\n",
    "        a,b=b,a+b\n",
    "    return b\n"
   ]
  },
  {
   "cell_type": "code",
   "execution_count": 24,
   "metadata": {},
   "outputs": [
    {
     "name": "stdout",
     "output_type": "stream",
     "text": [
      "1 1 0.0\n",
      "2 1 0.0\n",
      "3 2 0.0\n",
      "4 3 4.440892098500626e-16\n",
      "5 5 8.881784197001252e-16\n",
      "6 8 1.7763568394002505e-15\n",
      "7 13 1.7763568394002505e-15\n",
      "8 21 3.552713678800501e-15\n",
      "9 34 7.105427357601002e-15\n",
      "10 55 1.4210854715202004e-14\n",
      "11 89 2.842170943040401e-14\n",
      "12 144 5.684341886080802e-14\n",
      "13 233 5.684341886080802e-14\n",
      "14 377 1.7053025658242404e-13\n",
      "15 610 3.410605131648481e-13\n",
      "16 987 4.547473508864641e-13\n",
      "17 1597 9.094947017729282e-13\n",
      "18 2584 1.8189894035458565e-12\n",
      "19 4181 2.7284841053187847e-12\n",
      "First mismatch at n = 71\n",
      "analytic rounded: 308061521170130  exact: 308061521170129\n"
     ]
    }
   ],
   "source": [
    "def rounding_error(n: int) -> float:\n",
    "    x = fib(n)\n",
    "    return abs(x - round(x))\n",
    "\n",
    "# Example: print a small table of errors\n",
    "for n in range(1, 20):\n",
    "    print(n, fibTable(n), rounding_error(n))\n",
    "\n",
    "# Find the first n where analytic rounding gives the wrong integer\n",
    "for n in range(1, 200):\n",
    "    exact = fibTable(n)\n",
    "    approx_rounded = int(round(fib(n)))\n",
    "    if approx_rounded != exact:\n",
    "        print(\"First mismatch at n =\", n)\n",
    "        print(\"analytic rounded:\", approx_rounded, \" exact:\", exact)\n",
    "        break"
   ]
  }
 ],
 "metadata": {
  "kernelspec": {
   "display_name": "Python 3",
   "language": "python",
   "name": "python3"
  },
  "language_info": {
   "codemirror_mode": {
    "name": "ipython",
    "version": 3
   },
   "file_extension": ".py",
   "mimetype": "text/x-python",
   "name": "python",
   "nbconvert_exporter": "python",
   "pygments_lexer": "ipython3",
   "version": "3.10.0"
  }
 },
 "nbformat": 4,
 "nbformat_minor": 2
}
